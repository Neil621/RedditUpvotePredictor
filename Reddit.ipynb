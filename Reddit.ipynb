{
 "cells": [
  {
   "cell_type": "code",
   "execution_count": null,
   "metadata": {
    "collapsed": true
   },
   "outputs": [],
   "source": [
    "#http://www.storybench.org/how-to-scrape-reddit-with-python/\n",
    "import praw\n",
    "import pandas as pd\n",
    "import datetime as dt"
   ]
  },
  {
   "cell_type": "code",
   "execution_count": null,
   "metadata": {
    "collapsed": true
   },
   "outputs": [],
   "source": [
    "#PRAW stands for Python Reddit API Wrapper\n",
    "\n",
    "reddit = praw.Reddit(client_id='PERSONAL_USE_SCRIPT_14_CHARS', \\\n",
    "                     client_secret='SECRET_KEY_27_CHARS ', \\\n",
    "                     user_agent='YOUR_APP_NAME', \\\n",
    "                     username='YOUR_REDDIT_USER_NAME', \\\n",
    "                     password='YOUR_REDDIT_LOGIN_PASSWORD')"
   ]
  }
 ],
 "metadata": {
  "kernelspec": {
   "display_name": "Python 3",
   "language": "python",
   "name": "python3"
  },
  "language_info": {
   "codemirror_mode": {
    "name": "ipython",
    "version": 3
   },
   "file_extension": ".py",
   "mimetype": "text/x-python",
   "name": "python",
   "nbconvert_exporter": "python",
   "pygments_lexer": "ipython3",
   "version": "3.5.2"
  }
 },
 "nbformat": 4,
 "nbformat_minor": 2
}
